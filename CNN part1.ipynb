{
  "nbformat": 4,
  "nbformat_minor": 0,
  "metadata": {
    "colab": {
      "name": "aip2_assignment_lab08_CNNpart1_20161144 (1).ipynb",
      "private_outputs": true,
      "provenance": [],
      "collapsed_sections": []
    },
    "kernelspec": {
      "name": "python3",
      "display_name": "Python 3"
    },
    "language_info": {
      "name": "python"
    }
  },
  "cells": [
    {
      "cell_type": "markdown",
      "metadata": {
        "id": "DfMsZu5ae-ML"
      },
      "source": [
        "**Exercise 1: TensorFlow Implementation (Filters)**"
      ]
    },
    {
      "cell_type": "code",
      "metadata": {
        "id": "QirfmvJDe0oe"
      },
      "source": [
        "import tensorflow as tf\n",
        "from tensorflow import keras\n",
        "print(tf.__version__)\n",
        "print(keras.__version__)"
      ],
      "execution_count": null,
      "outputs": []
    },
    {
      "cell_type": "code",
      "metadata": {
        "id": "PGkO1gV3fJoW"
      },
      "source": [
        "import numpy as np\n",
        "import os"
      ],
      "execution_count": null,
      "outputs": []
    },
    {
      "cell_type": "code",
      "metadata": {
        "id": "9QtsnBXcfMuV"
      },
      "source": [
        "import matplotlib as mpl\n",
        "import matplotlib.pyplot as plt"
      ],
      "execution_count": null,
      "outputs": []
    },
    {
      "cell_type": "code",
      "metadata": {
        "id": "hZ5mUISlfPWY"
      },
      "source": [
        "import sklearn\n",
        "from sklearn.datasets import load_sample_image"
      ],
      "execution_count": null,
      "outputs": []
    },
    {
      "cell_type": "code",
      "metadata": {
        "id": "jUa0ZFkNfUgC"
      },
      "source": [
        "china = load_sample_image(\"china.jpg\") / 255\n",
        "flower = load_sample_image(\"flower.jpg\") / 255\n",
        "images = np.array([china, flower])"
      ],
      "execution_count": null,
      "outputs": []
    },
    {
      "cell_type": "code",
      "metadata": {
        "id": "ERTXF1zSfZhR"
      },
      "source": [
        "batch_size, height, width, channels = images.shape\n",
        "print(\"batch_size : \",batch_size,\"\\nheight * width : \", height,\"*\",width,\"\\nchannels :\", channels)"
      ],
      "execution_count": null,
      "outputs": []
    },
    {
      "cell_type": "code",
      "metadata": {
        "id": "mEw6_kuIf4AB"
      },
      "source": [
        "plt.imshow(images[0][:,:,0], cmap='gray')\n",
        "plt.show()\n",
        "plt.imshow(images[1][:,:,0], cmap='gray')\n",
        "plt.show()"
      ],
      "execution_count": null,
      "outputs": []
    },
    {
      "cell_type": "code",
      "metadata": {
        "id": "aq3UkuqTf7SW"
      },
      "source": [
        "# Create 2 filters\n",
        "filters = np.zeros(shape=(7, 7, channels, 2), dtype=np.float32)\n",
        "filters[:, 3, :, 0] = 1 # vertical line\n",
        "filters[3, :, :, 1] = 1 # horizontal line"
      ],
      "execution_count": null,
      "outputs": []
    },
    {
      "cell_type": "code",
      "metadata": {
        "id": "wLqwUga9gFtx"
      },
      "source": [
        "# Visualizing\n",
        "plt.imshow(filters[:, :, 0, 0],cmap=\"gray\") # First filter\n",
        "plt.show()\n",
        "plt.imshow(filters[:, :, 0, 1],cmap=\"gray\") # Second filter\n",
        "plt.show()"
      ],
      "execution_count": null,
      "outputs": []
    },
    {
      "cell_type": "code",
      "metadata": {
        "id": "wP17M_IEgIWp"
      },
      "source": [
        "outputs = tf.nn.conv2d(images, filters, strides=1, padding=\"SAME\")\n",
        "\n",
        "plt.imshow(outputs[0, :, :, 0], cmap=\"gray\") # plot 1st image's 1st feature map\n",
        "plt.show()\n",
        "plt.imshow(outputs[0, :, :, 1], cmap=\"gray\") # plot 1st image's 2nd feature map\n",
        "plt.show()"
      ],
      "execution_count": null,
      "outputs": []
    },
    {
      "cell_type": "code",
      "metadata": {
        "id": "85ZRsruLgSk1"
      },
      "source": [
        "# Function for cropping\n",
        "def crop(images):\n",
        "    return images[150:220, 130:250]"
      ],
      "execution_count": null,
      "outputs": []
    },
    {
      "cell_type": "code",
      "metadata": {
        "id": "ustNGMYEgZMa"
      },
      "source": [
        "print(\"Input\")\n",
        "plt.imshow(crop(images[0, :, :, 0]),cmap=\"gray\")\n",
        "plt.show()"
      ],
      "execution_count": null,
      "outputs": []
    },
    {
      "cell_type": "code",
      "metadata": {
        "id": "b4n1noo9ga09"
      },
      "source": [
        "for feature_map_index, filename in enumerate([\"china_vertical\",\"china_horizontal\"]):\n",
        "    print(filename)\n",
        "    plt.imshow(crop(outputs[0, :, :, feature_map_index]),cmap=\"gray\")\n",
        "    plt.show()"
      ],
      "execution_count": null,
      "outputs": []
    },
    {
      "cell_type": "markdown",
      "metadata": {
        "id": "ZJgiGoM4gjsL"
      },
      "source": [
        "**Exercise 2: TensorFlow Implementation (Pooling Layers)**"
      ]
    },
    {
      "cell_type": "code",
      "metadata": {
        "id": "eOe1Ose-ggnu"
      },
      "source": [
        "# pooling layer\n",
        "max_pool = keras.layers.MaxPool2D(pool_size=2,dtype=\"float64\")\n",
        "outputs = max_pool(images)\n",
        "plt.imshow(images[0, :, :, 0], cmap=\"gray\")\n",
        "plt.show()\n",
        "print(\"Input's H*W : \",images[0, :, :, 0].shape)\n",
        "plt.imshow(outputs[0, :, :, 0], cmap=\"gray\")\n",
        "plt.show()\n",
        "print(\"Output's H*W : \",outputs[0, :, :, 0].shape)"
      ],
      "execution_count": null,
      "outputs": []
    },
    {
      "cell_type": "code",
      "metadata": {
        "id": "MXVCauRXgwqN"
      },
      "source": [
        "cropped_images = np.array([crop(image) for image in images], dtype=np.float32)\n",
        "output = max_pool(cropped_images)\n",
        "# Show the figures side-by-side in a grid\n",
        "fig = plt.figure(figsize=(12, 8))\n",
        "gs = mpl.gridspec.GridSpec(nrows=1, ncols=2, width_ratios=[2, 1])\n",
        "ax1 = fig.add_subplot(gs[0, 0])\n",
        "ax1.set_title(\"Input\", fontsize=14)\n",
        "ax1.imshow(cropped_images[0]) # plot the 1st image\n",
        "ax1.axis(\"off\")\n",
        "ax2 = fig.add_subplot(gs[0, 1])\n",
        "ax2.set_title(\"Output\", fontsize=14)\n",
        "ax2.imshow(output[0]) # plot the output for the 1st image\n",
        "ax2.axis(\"off\")\n",
        "plt.show()"
      ],
      "execution_count": null,
      "outputs": []
    },
    {
      "cell_type": "code",
      "metadata": {
        "id": "GxuWw9Vug5Ic"
      },
      "source": [
        "# When you run the following code, if you encounter an error saying that tf.nn.max_pool is unimplemented,\n",
        "# you should change the runtime type to None (In the menu bar of this notebook,\n",
        "# choose Runtime -> Change runtime type and then select None in Hardware accelerator)\n",
        "# After that, you need to rerun the codes in the Preliminaries and Exercise 1.\n",
        "# Depth-wise max pooling layer\n",
        "\n",
        "output = tf.nn.max_pool(images, ksize=(1, 1, 1, 3), strides=(1, 1, 1, 3), padding=\"VALID\")\n",
        "\n",
        "print(\"images shape:\",images.shape) # N * H * W * C\n",
        "print(\"output shape:\",output.shape) # N * H * W * C"
      ],
      "execution_count": null,
      "outputs": []
    },
    {
      "cell_type": "code",
      "metadata": {
        "id": "EmYQY700hHfe"
      },
      "source": [
        "# Keras model : wrap it in a Lambda layer\n",
        "depth_pool = keras.layers.Lambda(\n",
        "lambda X: tf.nn.max_pool(X, ksize=(1, 1, 1, 3), strides=(1, 1, 1, 3),padding=\"VALID\"),dtype=\"float64\")\n",
        "output=depth_pool(images)\n",
        "\n",
        "print(\"images :\",images.shape) # N * H * W * C\n",
        "print(\"output :\",output.shape) # N * H * W * C"
      ],
      "execution_count": null,
      "outputs": []
    },
    {
      "cell_type": "code",
      "metadata": {
        "id": "YmblWnbLhVQn"
      },
      "source": [
        "plt.figure(figsize=(12, 8))\n",
        "plt.subplot(1, 2, 1)\n",
        "plt.title(\"Input\", fontsize=14)\n",
        "plt.imshow(cropped_images[0]) # plot the 1st image\n",
        "plt.subplot(1, 2, 2)\n",
        "plt.title(\"Output\", fontsize=14)\n",
        "plt.imshow(depth_pool(cropped_images)[0,...,0],cmap=\"gray\") # plot the output for the 1st image\n",
        "plt.axis(\"off\")\n",
        "plt.show()"
      ],
      "execution_count": null,
      "outputs": []
    },
    {
      "cell_type": "code",
      "metadata": {
        "id": "swsshrvfhbXA"
      },
      "source": [
        "avg_pool = keras.layers.AvgPool2D(pool_size=2)\n",
        "output_avg = avg_pool(cropped_images)\n",
        "fig = plt.figure(figsize=(12, 8))\n",
        "gs = mpl.gridspec.GridSpec(nrows=1, ncols=2, width_ratios=[2, 1])\n",
        "ax1 = fig.add_subplot(gs[0, 0])\n",
        "ax1.set_title(\"Input\", fontsize=14)\n",
        "ax1.imshow(cropped_images[0]) # plot the 1st image\n",
        "ax1.axis(\"off\")\n",
        "ax2 = fig.add_subplot(gs[0, 1])\n",
        "ax2.set_title(\"Output\", fontsize=14)\n",
        "ax2.imshow(output_avg[0]) # plot the output for the 1st image\n",
        "ax2.axis(\"off\")\n",
        "plt.show()"
      ],
      "execution_count": null,
      "outputs": []
    },
    {
      "cell_type": "code",
      "metadata": {
        "id": "dC5T8R3whhM1"
      },
      "source": [
        "# global average pooling\n",
        "global_avg_pool = keras.layers.GlobalAvgPool2D(dtype=\"float64\")\n",
        "output=global_avg_pool(images)\n",
        "\n",
        "print(\"images :\",images.shape) # N * H * W * C\n",
        "print(\"output :\",output.shape) # N * C"
      ],
      "execution_count": null,
      "outputs": []
    },
    {
      "cell_type": "code",
      "metadata": {
        "id": "PYALx2DZhoLq"
      },
      "source": [
        "global_avg_pool = keras.layers.Lambda(lambda X: tf.reduce_mean(X, axis=[1,2]),dtype=\"float64\")\n",
        "output=global_avg_pool(images)\n",
        "print(\"images :\",images.shape) # N * H * W * C\n",
        "print(\"output :\",output.shape) # N * C"
      ],
      "execution_count": null,
      "outputs": []
    },
    {
      "cell_type": "markdown",
      "metadata": {
        "id": "p4ap-aighuE-"
      },
      "source": [
        "**Exercise 3: CNN Architectures**"
      ]
    },
    {
      "cell_type": "code",
      "metadata": {
        "id": "qsDVkZo4hqyh"
      },
      "source": [
        "import tensorflow as tf\n",
        "from tensorflow import keras\n",
        "import numpy as np\n",
        "import os\n",
        "import matplotlib as mpl\n",
        "import matplotlib.pyplot as plt"
      ],
      "execution_count": null,
      "outputs": []
    },
    {
      "cell_type": "code",
      "metadata": {
        "id": "hYrmDh_4h-Wg"
      },
      "source": [
        "model = keras.models.Sequential([\n",
        "    keras.layers.Conv2D(64, 7, activation=\"relu\", padding=\"same\",\n",
        "    input_shape=[28, 28, 1]),\n",
        "    keras.layers.MaxPooling2D(2),\n",
        "    keras.layers.Conv2D(128, 3, activation=\"relu\", padding=\"same\"),\n",
        "    keras.layers.Conv2D(128, 3, activation=\"relu\", padding=\"same\"),\n",
        "    keras.layers.MaxPooling2D(2),\n",
        "    keras.layers.Conv2D(256, 3, activation=\"relu\", padding=\"same\"),\n",
        "    keras.layers.Conv2D(256, 3, activation=\"relu\", padding=\"same\"),\n",
        "    keras.layers.MaxPooling2D(2),\n",
        "    keras.layers.Flatten(),\n",
        "    keras.layers.Dense(128, activation=\"relu\"),\n",
        "    keras.layers.Dropout(0.5),\n",
        "    keras.layers.Dense(64, activation=\"relu\"),\n",
        "    keras.layers.Dropout(0.5),\n",
        "    keras.layers.Dense(10, activation=\"softmax\")\n",
        "])"
      ],
      "execution_count": null,
      "outputs": []
    },
    {
      "cell_type": "code",
      "metadata": {
        "id": "kIoaAqK0iEXz"
      },
      "source": [
        "(X_train_full, y_train_full), (X_test, y_test) = keras.datasets.fashion_mnist.load_data()\n",
        "X_train, X_valid = X_train_full[:-5000], X_train_full[-5000:]\n",
        "y_train, y_valid = y_train_full[:-5000], y_train_full[-5000:]\n",
        "# data normalization\n",
        "X_mean = X_train.mean(axis=0, keepdims=True)\n",
        "X_std = X_train.std(axis=0, keepdims=True) + 1e-7\n",
        "X_train = (X_train - X_mean) / X_std\n",
        "X_valid = (X_valid - X_mean) / X_std\n",
        "X_test = (X_test - X_mean) / X_std\n",
        "X_train = X_train[..., np.newaxis]\n",
        "X_valid = X_valid[..., np.newaxis]\n",
        "X_test = X_test[..., np.newaxis]"
      ],
      "execution_count": null,
      "outputs": []
    },
    {
      "cell_type": "code",
      "metadata": {
        "id": "LuDV73c4iKZ8"
      },
      "source": [
        "model.compile(loss=\"sparse_categorical_crossentropy\", optimizer=\"nadam\",metrics=[\"accuracy\"])\n",
        "history = model.fit(X_train, y_train, epochs=10, validation_data=(X_valid,y_valid))\n",
        "score = model.evaluate(X_test, y_test)\n",
        "X_new = X_test[:10] # pretend we have new images\n",
        "y_pred = model.predict(X_new)"
      ],
      "execution_count": null,
      "outputs": []
    },
    {
      "cell_type": "markdown",
      "metadata": {
        "id": "uBLVt3y-kloa"
      },
      "source": [
        "**Exercise 4: Build your own CNN from scratch**"
      ]
    },
    {
      "cell_type": "code",
      "metadata": {
        "id": "pvfo4QnPkjWH"
      },
      "source": [
        "model = keras.models.Sequential([\n",
        "    keras.layers.Conv2D(64, 7, activation=\"relu\", padding=\"same\",\n",
        "    input_shape=[28, 28, 1]),\n",
        "    keras.layers.MaxPooling2D(2),\n",
        "    keras.layers.Conv2D(128, 3, activation=\"relu\", padding=\"same\"),\n",
        "    keras.layers.Conv2D(128, 3, activation=\"relu\", padding=\"same\"),\n",
        "    keras.layers.MaxPooling2D(2),\n",
        "    keras.layers.Conv2D(256, 3, activation=\"relu\", padding=\"same\"),\n",
        "    keras.layers.Conv2D(256, 3, activation=\"relu\", padding=\"same\"),\n",
        "    keras.layers.MaxPooling2D(2),\n",
        "    keras.layers.Flatten(),\n",
        "    keras.layers.Dense(128, activation=\"relu\"),\n",
        "    keras.layers.Dropout(0.5),\n",
        "    keras.layers.Dense(64, activation=\"relu\"),\n",
        "    keras.layers.Dropout(0.5),\n",
        "    keras.layers.Dense(10, activation=\"softmax\")\n",
        "])"
      ],
      "execution_count": null,
      "outputs": []
    },
    {
      "cell_type": "code",
      "metadata": {
        "id": "Q4wAdWj5l5jT"
      },
      "source": [
        "class MyModel(tf.keras.Model):\n",
        "  def __init__(self):\n",
        "    # call the present constructor\n",
        "    super(MyModel, self).__init__()\n",
        "    #initalize the layers\n",
        "    self.conv1 = tf.keras.layers.Conv2D(kernel_size=(128,3), filters=16, activation='relu', padding = \"same\")\n",
        "    self.conv2 = tf.keras.layers.Conv2D(kernel_size=(128,3), filters=32, activation='relu', padding = \"same\")\n",
        "    self.pool = tf.keras.layers.MaxPooling2D(2)\n",
        "    self.conv3 = tf.keras.layers.Conv2D(kernel_size=(256,3), filters=32, activation='relu', padding = \"same\")\n",
        "    self.conv4 = tf.keras.layers.Conv2D(kernel_size=(256,3), filters=32, activation='relu', padding = \"same\")\n",
        "    self.pool = tf.keras.layers.MaxPooling2D(2)\n",
        "    self.flatten = tf.keras.layers.Flatten()\n",
        "    self.d1 = tf.keras.layers.Dense(128, activation='relu')\n",
        "    self.d2 = tf.keras.layers.Dropout(0.5)\n",
        "    self.d3 = tf.keras.layers.Dense(64, activation='relu')\n",
        "    self.d4 = tf.keras.layers.Dropout(0.5)\n",
        "    self.d5 = tf.keras.layers.Dense(64, activation='softmax')\n",
        "\n",
        "  def call(self, x):\n",
        "    x = self.conv1(x)\n",
        "    x = self.pool(x)\n",
        "    x = self.conv2(x)\n",
        "    x = self.pool(x)\n",
        "    x = self.conv3(x)\n",
        "    x = self.pool(x)\n",
        "    x = self.conv4(x)\n",
        "    x = self.flatten(x)\n",
        "    x = self.d1(x)\n",
        "    x = self.d2(x)\n",
        "    x = self.d3(x)\n",
        "    x = self.d4(x)\n",
        "    return self.d5(x)\n",
        "\n",
        "model = MyModel()"
      ],
      "execution_count": null,
      "outputs": []
    },
    {
      "cell_type": "code",
      "metadata": {
        "id": "JCgNi2g_p9hi"
      },
      "source": [
        "model.compile(loss=\"sparse_categorical_crossentropy\", optimizer=\"nadam\",metrics=[\"accuracy\"])\n",
        "history = model.fit(X_train, y_train, epochs=10, validation_data=(X_valid,y_valid))\n",
        "score = model.evaluate(X_test, y_test)\n",
        "X_new = X_test[:10] # pretend we have new images\n",
        "y_pred = model.predict(X_new)"
      ],
      "execution_count": null,
      "outputs": []
    }
  ]
}