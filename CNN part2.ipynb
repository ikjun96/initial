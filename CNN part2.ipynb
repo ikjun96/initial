{
  "cells": [
    {
      "cell_type": "markdown",
      "metadata": {
        "id": "knpV9DjAuoTe"
      },
      "source": [
        "Exercise 5: ResNet with subclassing & sequential API"
      ]
    },
    {
      "cell_type": "code",
      "execution_count": null,
      "metadata": {
        "colab": {
          "base_uri": "https://localhost:8080/"
        },
        "id": "lYukmLLFFJd2",
        "outputId": "2af66bc2-fe3a-4059-e5d6-db4afc4b62f6"
      },
      "outputs": [],
      "source": [
        "# Check your device for learning\n",
        "%tensorflow_version 2.x\n",
        "import tensorflow as tf\n",
        "device_name = tf.test.gpu_device_name()\n",
        "if device_name != '/device:GPU:0':\n",
        "  raise SystemError('GPU device not found')\n",
        "print('Found GPU at: {}'.format(device_name))"
      ]
    },
    {
      "cell_type": "code",
      "execution_count": null,
      "metadata": {
        "id": "qj9hdLh2wEQx"
      },
      "outputs": [],
      "source": [
        "import tensorflow as tf\n",
        "import numpy as np\n",
        "import matplotlib.pyplot as plt\n",
        "\n",
        "from tensorflow.keras import *\n",
        "from tensorflow.keras.datasets import * #cifar10\n",
        "from tensorflow.keras.utils import * #to_categorical\n",
        "from tensorflow.keras.preprocessing.image import * # ImageDataGenerator\n",
        "from tensorflow.keras.layers import *#Layer, Conv2D, BatchNormalization, ReLU\n"
      ]
    },
    {
      "cell_type": "code",
      "execution_count": null,
      "metadata": {
        "id": "BdZw0wmLucFW"
      },
      "outputs": [],
      "source": [
        "class ResidualUnit(Layer):\n",
        "    def __init__(self, filters, strides=1, activation=\"relu\", use_bias=False, **kwargs):\n",
        "        super(ResidualUnit, self).__init__(**kwargs)\n",
        "        self.activation = activation\n",
        "        self.main_layers = [\n",
        "            Conv2D(filters, 3, strides=strides, padding=\"same\", use_bias=use_bias),\n",
        "            BatchNormalization(),\n",
        "            ReLU(),\n",
        "            Conv2D(filters, 3, strides=1, padding=\"same\", use_bias=use_bias),\n",
        "            BatchNormalization()\n",
        "        ]\n",
        "        self.skip_layers = []\n",
        "        if strides > 1:\n",
        "            self.skip_layers = [\n",
        "                Conv2D(filters, 1, strides=strides, padding=\"same\", use_bias=use_bias),\n",
        "                BatchNormalization()\n",
        "            ]\n",
        "\n",
        "    def call(self, inputs):\n",
        "        Z = inputs\n",
        "        for layer in self.main_layers:\n",
        "            Z = layer(Z)\n",
        "        skip_Z = inputs\n",
        "        for layer in self.skip_layers:\n",
        "            skip_Z = layer(skip_Z)\n",
        "        return activations.relu(Z + skip_Z)\n"
      ]
    },
    {
      "cell_type": "code",
      "execution_count": null,
      "metadata": {
        "id": "hW3wa_wPwaiH"
      },
      "outputs": [],
      "source": [
        "\n",
        "# Define the ResidualUnit class (as shown previously)\n",
        "\n",
        "model = models.Sequential()\n",
        "\n",
        "# Initial Convolution Layer\n",
        "model.add(Conv2D(64, 7, strides=2, input_shape=[28,28, 1], padding=\"same\", use_bias=False))\n",
        "model.add(BatchNormalization())\n",
        "model.add(ReLU())\n",
        "model.add(MaxPool2D(pool_size=3, strides=2, padding=\"same\"))\n",
        "prev_filters = 64\n",
        "\n",
        "# Residual Blocks\n",
        "block_sizes = [3, 4, 6, 3]\n",
        "filters_list = [64, 128, 256, 512]\n",
        "\n",
        "for block_size, filters in zip(block_sizes, filters_list):\n",
        "    for _ in range(block_size):\n",
        "        strides = 1 if filters == prev_filters else 2\n",
        "        model.add(ResidualUnit(filters, strides=strides))\n",
        "        prev_filters = filters\n",
        "\n",
        "# Global Average Pooling and Classification Layer\n",
        "model.add(GlobalAveragePooling2D())\n",
        "model.add(Flatten())\n",
        "model.add(Dense(10, activation=\"softmax\"))\n",
        "\n"
      ]
    },
    {
      "cell_type": "code",
      "execution_count": null,
      "metadata": {
        "colab": {
          "base_uri": "https://localhost:8080/"
        },
        "id": "VSVrp1yRwlZ3",
        "outputId": "569b7652-df5d-4cdb-9827-b8f30290282b"
      },
      "outputs": [],
      "source": [
        "model.summary()"
      ]
    },
    {
      "cell_type": "markdown",
      "metadata": {
        "id": "Qi1ylt1Cuql1"
      },
      "source": [
        "Exercise 6: Training ResNet for fashion MNIST"
      ]
    },
    {
      "cell_type": "code",
      "execution_count": null,
      "metadata": {
        "colab": {
          "base_uri": "https://localhost:8080/"
        },
        "id": "dSd-UzTtuBeC",
        "outputId": "8f098b34-5038-4c6a-af50-aa56a80a6f73"
      },
      "outputs": [],
      "source": [
        "# load fashion MNIST data\n",
        "(X_train_full, y_train_full), (X_test, y_test) = fashion_mnist.load_data()\n",
        "X_train, X_valid = X_train_full[:-5000], X_train_full[-5000:]\n",
        "y_train, y_valid = y_train_full[:-5000], y_train_full[-5000:]\n",
        "# data normalization\n",
        "X_mean = X_train.mean(axis=0, keepdims=True)\n",
        "X_std = X_train.std(axis=0, keepdims=True) + 1e-7\n",
        "X_train = (X_train - X_mean) / X_std\n",
        "X_valid = (X_valid - X_mean) / X_std\n",
        "X_test = (X_test - X_mean) / X_std\n",
        "X_train = X_train[..., np.newaxis]\n",
        "X_valid = X_valid[..., np.newaxis]\n",
        "X_test = X_test[..., np.newaxis]"
      ]
    },
    {
      "cell_type": "code",
      "execution_count": null,
      "metadata": {
        "colab": {
          "base_uri": "https://localhost:8080/",
          "height": 420
        },
        "id": "u50Zfpapws5h",
        "outputId": "01da4cfd-7ba6-4603-c61c-1d62ab084d28"
      },
      "outputs": [],
      "source": [
        "model.compile(loss=\"sparse_categorical_crossentropy\", optimizer=\"nadam\",metrics=[\"accuracy\"])\n",
        "history = model.fit(X_train, y_train, epochs=10, validation_data=(X_valid,y_valid))\n",
        "score = model.evaluate(X_test, y_test)\n",
        "X_new = X_test[:10] # pretend we have new images\n",
        "y_pred = model.predict(X_new)"
      ]
    },
    {
      "cell_type": "markdown",
      "metadata": {
        "id": "fvvaeEXVuq-T"
      },
      "source": [
        "Exercise 7: Training ResNet for CIFAR10"
      ]
    },
    {
      "cell_type": "code",
      "execution_count": null,
      "metadata": {
        "id": "Euikzlr6zCPI"
      },
      "outputs": [],
      "source": [
        "def visualize_data(images, categories, class_names):\n",
        "    fig = plt.figure(figsize=(14, 6))\n",
        "    fig.patch.set_facecolor('white')\n",
        "    for i in range(3 * 7):\n",
        "        plt.subplot(3, 7, i+1)\n",
        "        plt.xticks([])\n",
        "        plt.yticks([])\n",
        "        plt.imshow(images[i])\n",
        "        class_index = categories[i].argmax()\n",
        "        plt.xlabel(class_names[class_index])\n",
        "    plt.show()"
      ]
    },
    {
      "cell_type": "code",
      "execution_count": null,
      "metadata": {
        "colab": {
          "base_uri": "https://localhost:8080/"
        },
        "id": "ydPFrEOZzHNK",
        "outputId": "449649f4-e937-432f-d7c3-2d103cb0a8d9"
      },
      "outputs": [],
      "source": [
        "class_names = ['airplane', 'automobile', 'bird', 'cat', 'deer', 'dog', 'frog', 'horse', 'ship', 'truck']\n",
        "num_classes = len(class_names)\n",
        "\n",
        "(x_train, y_train), (x_test, y_test) = cifar10.load_data()\n",
        "\n",
        "x_train = x_train / 255.0\n",
        "y_train = to_categorical(y_train, num_classes)\n",
        "\n",
        "x_test = x_test / 255.0\n",
        "y_test = to_categorical(y_test, num_classes)"
      ]
    },
    {
      "cell_type": "code",
      "execution_count": null,
      "metadata": {
        "colab": {
          "base_uri": "https://localhost:8080/",
          "height": 388
        },
        "id": "QYMkm36QHCew",
        "outputId": "ee20f541-b1a8-4f96-f93c-bd15164805fd"
      },
      "outputs": [],
      "source": [
        "print(x_train.shape, y_train.shape)\n",
        "visualize_data(x_train, y_train, class_names)"
      ]
    },
    {
      "cell_type": "code",
      "execution_count": null,
      "metadata": {
        "id": "Sr8AtEPrzptK"
      },
      "outputs": [],
      "source": [
        "# Define the ResidualUnit class (as shown previously)\n",
        "\n",
        "model = models.Sequential()\n",
        "\n",
        "# Initial Convolution Layer\n",
        "model.add(Conv2D(64, 7, strides=2, input_shape=[32, 32, 3], padding=\"same\", use_bias=False))\n",
        "model.add(BatchNormalization())\n",
        "model.add(ReLU())\n",
        "model.add(MaxPool2D(pool_size=3, strides=2, padding=\"same\"))\n",
        "prev_filters = 64\n",
        "\n",
        "# Residual Blocks\n",
        "block_sizes = [3, 4, 6, 3]\n",
        "filters_list = [64, 128, 256, 512]\n",
        "\n",
        "for block_size, filters in zip(block_sizes, filters_list):\n",
        "    for _ in range(block_size):\n",
        "        strides = 1 if filters == prev_filters else 2\n",
        "        model.add(ResidualUnit(filters, strides=strides))\n",
        "        prev_filters = filters\n",
        "\n",
        "# Global Average Pooling and Classification Layer\n",
        "model.add(GlobalAveragePooling2D())\n",
        "model.add(Flatten())\n",
        "model.add(Dense(10, activation=\"softmax\"))\n"
      ]
    },
    {
      "cell_type": "code",
      "execution_count": null,
      "metadata": {
        "colab": {
          "base_uri": "https://localhost:8080/"
        },
        "id": "n-gCH8P00gZc",
        "outputId": "b90044a6-6d44-4925-c14b-3599f804807c"
      },
      "outputs": [],
      "source": [
        "model.summary()"
      ]
    },
    {
      "cell_type": "code",
      "execution_count": null,
      "metadata": {
        "colab": {
          "base_uri": "https://localhost:8080/"
        },
        "id": "dUHW-dZEzvaQ",
        "outputId": "314ea9a4-cb54-4188-afa0-6b85baf22a11"
      },
      "outputs": [],
      "source": [
        "model.compile(loss=\"categorical_crossentropy\", optimizer=\"nadam\",metrics=[\"accuracy\"])\n",
        "history = model.fit(x_train, y_train, epochs=10, validation_data=(x_test,y_test))\n",
        "score = model.evaluate(x_test, y_test)"
      ]
    },
    {
      "cell_type": "markdown",
      "metadata": {
        "id": "U43ZmYMJurLt"
      },
      "source": [
        "Exercise 8: CIFAR10 with data augmentation"
      ]
    },
    {
      "cell_type": "code",
      "execution_count": null,
      "metadata": {
        "colab": {
          "base_uri": "https://localhost:8080/",
          "height": 370
        },
        "id": "w2OY2soS4C-Y",
        "outputId": "8f782a27-0138-4f76-9392-923c63fb1fd5"
      },
      "outputs": [],
      "source": [
        "(x_train, y_train), (x_test, y_test) = cifar10.load_data()\n",
        "\n",
        "x_train = x_train / 255.0\n",
        "y_train = to_categorical(y_train, num_classes)\n",
        "\n",
        "x_test = x_test / 255.0\n",
        "y_test = to_categorical(y_test, num_classes)\n",
        "\n",
        "visualize_data(x_train, y_train, class_names)"
      ]
    },
    {
      "cell_type": "code",
      "execution_count": null,
      "metadata": {
        "colab": {
          "base_uri": "https://localhost:8080/",
          "height": 370
        },
        "id": "5Ro37e0w3G8T",
        "outputId": "a0d23b14-4f63-480b-82e9-3c6caf93717c"
      },
      "outputs": [],
      "source": [
        "width_shift = 3/32\n",
        "height_shift = 3/32\n",
        "flip = True\n",
        "\n",
        "datagen = ImageDataGenerator(\n",
        "    horizontal_flip=flip,\n",
        "    width_shift_range=width_shift,\n",
        "    height_shift_range=height_shift,\n",
        "    )\n",
        "datagen.fit(x_train)\n",
        "\n",
        "it = datagen.flow(x_train, y_train, shuffle=False)\n",
        "batch_images, batch_labels = next(it)\n",
        "visualize_data(batch_images, batch_labels, class_names)"
      ]
    },
    {
      "cell_type": "code",
      "execution_count": null,
      "metadata": {
        "colab": {
          "base_uri": "https://localhost:8080/"
        },
        "id": "M4BUmSAaLACd",
        "outputId": "2ca158ac-82be-4a1c-8cea-a113f0065b21"
      },
      "outputs": [],
      "source": [
        "model.compile(loss=\"categorical_crossentropy\", optimizer=\"nadam\",metrics=[\"accuracy\"])\n",
        "history = model.fit(x_train, y_train, epochs=10, validation_data=(x_test,y_test))\n",
        "score = model.evaluate(x_test, y_test)"
      ]
    },
    {
      "cell_type": "markdown",
      "metadata": {
        "id": "tSM3xp9n65YQ"
      },
      "source": [
        "Exercise 9: Do it yourself"
      ]
    },
    {
      "cell_type": "code",
      "execution_count": null,
      "metadata": {
        "id": "zVBvHT_Orr_z"
      },
      "outputs": [],
      "source": [
        "class ResidualUnit50(Layer):\n",
        "    def __init__(self, filters, strides=1, activation=\"relu\", **kwargs):\n",
        "        super().__init__(**kwargs)\n",
        "        self.activation = activations.get(activation)  # ReLU activation in this example\n",
        "        self.main_layers = [\n",
        "            Conv2D(filters, 1, strides=strides, padding=\"same\", use_bias=False),\n",
        "            BatchNormalization(),\n",
        "            self.activation,\n",
        "\n",
        "            Conv2D(filters, 3, strides=1, padding=\"same\", use_bias=False),\n",
        "            BatchNormalization(),\n",
        "            self.activation,\n",
        "\n",
        "            Conv2D(filters * 4, 1, strides=1, padding=\"same\", use_bias=False),\n",
        "            BatchNormalization(),\n",
        "            self.activation\n",
        "        ]\n",
        "\n",
        "        self.skip_layers = []  # To make skip connection\n",
        "        if strides > 1:\n",
        "            self.skip_layers = [\n",
        "                Conv2D(filters * 4, 1, strides=strides, padding=\"same\", use_bias=False),\n",
        "                BatchNormalization()\n",
        "            ]\n",
        "\n",
        "    def call(self, inputs):\n",
        "        Z = inputs\n",
        "        for layer in self.main_layers:\n",
        "            Z = layer(Z)\n",
        "        skip_Z = inputs\n",
        "        for layer in self.skip_layers:\n",
        "            skip_Z = layer(skip_Z)\n",
        "        return activations.relu(Z + skip_Z)\n"
      ]
    },
    {
      "cell_type": "code",
      "execution_count": null,
      "metadata": {
        "id": "bHAbevJd5Fdf"
      },
      "outputs": [],
      "source": [
        "model = models.Sequential()\n",
        "model.add(Conv2D(64, 7, strides=2, input_shape=[32, 32, 3], padding=\"same\", use_bias=False))\n",
        "model.add(BatchNormalization())\n",
        "model.add(Activation(\"relu\"))\n",
        "model.add(MaxPool2D(pool_size=3, strides=2, padding=\"same\"))\n",
        "prev_filters = 0\n",
        "\n",
        "block_sizes = [3, 4, 6, 3]\n",
        "filters = [64, 128, 256, 512]\n",
        "\n",
        "for i in range(len(block_sizes)):\n",
        "    for _ in range(block_sizes[i]):\n",
        "        strides = 1 if prev_filters == filters[i] else 2\n",
        "        model.add(ResidualUnit50(filters[i], strides=strides))\n",
        "        prev_filters = filters[i]\n",
        "\n",
        "model.add(GlobalAvgPool2D())\n",
        "model.add(Flatten())\n",
        "model.add(Dense(10, activation=\"softmax\"))\n",
        "\n",
        "model.summary()"
      ]
    },
    {
      "cell_type": "code",
      "execution_count": null,
      "metadata": {
        "colab": {
          "base_uri": "https://localhost:8080/"
        },
        "id": "05vTyqlW65QS",
        "outputId": "f3012726-d28f-4c2a-9034-f366a4197d90"
      },
      "outputs": [],
      "source": [
        "model.compile(loss=\"categorical_crossentropy\", optimizer=\"nadam\",metrics=[\"accuracy\"])\n",
        "history = model.fit(x_train, y_train, epochs=10, validation_data=(x_test,y_test))\n",
        "score = model.evaluate(x_test, y_test)\n",
        "x_new = x_test[:10] # pretend we have new images\n",
        "y_pred = model.predict(x_new)"
      ]
    }
  ],
  "metadata": {
    "accelerator": "GPU",
    "colab": {
      "collapsed_sections": [],
      "name": "Result CNN part2.ipynb",
      "provenance": []
    },
    "kernelspec": {
      "display_name": "Python 3",
      "name": "python3"
    },
    "language_info": {
      "codemirror_mode": {
        "name": "ipython",
        "version": 3
      },
      "file_extension": ".py",
      "mimetype": "text/x-python",
      "name": "python",
      "nbconvert_exporter": "python",
      "pygments_lexer": "ipython3",
      "version": "3.8.9"
    }
  },
  "nbformat": 4,
  "nbformat_minor": 0
}
